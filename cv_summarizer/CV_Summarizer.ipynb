{
 "cells": [
  {
   "cell_type": "code",
   "execution_count": 2,
   "id": "2f470e6b-66a1-4688-9320-0e803dda439c",
   "metadata": {},
   "outputs": [
    {
     "data": {
      "text/html": [
       "<h1><center>📄 CV Summarizer 🤖</center></h1>"
      ],
      "text/plain": [
       "<IPython.core.display.HTML object>"
      ]
     },
     "metadata": {},
     "output_type": "display_data"
    }
   ],
   "source": [
    "import ipywidgets as widgets\n",
    "from IPython.display import display, HTML\n",
    "\n",
    "# Create and display an app title using HTML\n",
    "title = HTML(\"<h1><center>📄 CV Summarizer 🤖</center></h1>\")\n",
    "display(title)"
   ]
  },
  {
   "cell_type": "code",
   "execution_count": 3,
   "id": "299381c5-8af4-4676-8635-2fb7d55c807d",
   "metadata": {},
   "outputs": [
    {
     "name": "stdout",
     "output_type": "stream",
     "text": [
      "✅ Gemini API configured successfully!\n"
     ]
    }
   ],
   "source": [
    "from dotenv import load_dotenv\n",
    "import os\n",
    "import google.generativeai as genai\n",
    "\n",
    "load_dotenv()\n",
    "gemini_api_key = os.getenv('GEMINI_API_KEY')\n",
    "genai.configure(api_key=gemini_api_key)\n",
    "\n",
    "print(\"✅ Gemini API configured successfully!\")\n",
    "\n",
    "model = genai.GenerativeModel('models/gemini-1.5-flash')"
   ]
  },
  {
   "cell_type": "code",
   "execution_count": 4,
   "id": "df784d34-2653-4f3a-88cf-9c1ab207c3a4",
   "metadata": {},
   "outputs": [],
   "source": [
    "prompt_template = \"\"\"\n",
    "You are an expert HR assistant. Analyze the following resume text and write a concise, one-paragraph summary.\n",
    "\n",
    "**IMPORTANT: Your summary must ONLY use information explicitly found in the text below. Do not use placeholders like [insert...].**\n",
    "\n",
    "Extract and highlight:\n",
    "1. The candidate's job title and total years of experience.\n",
    "2. Their 2-3 most impressive key skills or achievements. Be specific and use numbers if available.\n",
    "3. The industry or type of role they are best suited for.\n",
    "\n",
    "RESUME TEXT:\n",
    "{resume_text}\n",
    "\n",
    "SUMMARY:\n",
    "\"\"\""
   ]
  },
  {
   "cell_type": "code",
   "execution_count": 5,
   "id": "5faec102-353b-40c9-aaff-f60fd3b89905",
   "metadata": {},
   "outputs": [],
   "source": [
    "resume_list = [\n",
    "    \"Jane Doe, Software Engineer with 8 years of experience in Python and cloud infrastructure. Built a payment system at TechCorp that processes $5M daily, reducing transaction errors by 15%. Led a team of 5 developers using Agile methodologies, improving deployment frequency by 20%. Expertise in AWS, Docker, API design, and system architecture.\",\n",
    "    \"John Smith, Marketing Manager with 10 years of experience. Specializes in digital strategy for tech startups. Grew organic traffic by 200% at SaaSCompany within 18 months and managed a $1M annual budget, achieving a 25% ROI on marketing spend. Launched a viral social media campaign that generated 50,000 new leads.\"\n",
    "]"
   ]
  },
  {
   "cell_type": "code",
   "execution_count": 6,
   "id": "0b156ddc-2977-403f-901c-f3728a8a2bd2",
   "metadata": {},
   "outputs": [
    {
     "data": {
      "application/vnd.jupyter.widget-view+json": {
       "model_id": "a518971eb88b4672a943f80b3a5d3527",
       "version_major": 2,
       "version_minor": 0
      },
      "text/plain": [
       "Accordion(children=(Output(), Output()), titles=('Resume 1', 'Resume 2'))"
      ]
     },
     "metadata": {},
     "output_type": "display_data"
    }
   ],
   "source": [
    "# Create an accordion widget to hold the summaries\n",
    "accordion = widgets.Accordion(children=[widgets.Output() for _ in resume_list])\n",
    "\n",
    "# Loop through the resumes and add them to the accordion\n",
    "for i, resume in enumerate(resume_list):\n",
    "    with accordion.children[i]:\n",
    "        # Process the resume\n",
    "        full_prompt = prompt_template.format(resume_text=resume)\n",
    "        response = model.generate_content(full_prompt)\n",
    "        \n",
    "        # Display the summary with bold heading\n",
    "        display(HTML(f\"<b>📄 Summary for Resume {i+1}</b>\"))\n",
    "        print(response.text)\n",
    "\n",
    "    # Set the accordion's titles\n",
    "    accordion.set_title(i, f\"Resume {i+1}\")\n",
    "\n",
    "# Display the accordion\n",
    "display(accordion)"
   ]
  },
  {
   "cell_type": "code",
   "execution_count": null,
   "id": "1eb89cdc-b178-4511-ae20-924c90e6c266",
   "metadata": {},
   "outputs": [],
   "source": []
  }
 ],
 "metadata": {
  "kernelspec": {
   "display_name": "Python 3 (ipykernel)",
   "language": "python",
   "name": "python3"
  },
  "language_info": {
   "codemirror_mode": {
    "name": "ipython",
    "version": 3
   },
   "file_extension": ".py",
   "mimetype": "text/x-python",
   "name": "python",
   "nbconvert_exporter": "python",
   "pygments_lexer": "ipython3",
   "version": "3.9.23"
  }
 },
 "nbformat": 4,
 "nbformat_minor": 5
}
