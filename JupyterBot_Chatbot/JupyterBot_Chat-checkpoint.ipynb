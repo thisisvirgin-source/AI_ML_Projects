{
 "cells": [
  {
   "cell_type": "code",
   "execution_count": 2,
   "id": "64556ab2-ecd1-45ce-b9c5-53d12eb30fa5",
   "metadata": {},
   "outputs": [],
   "source": [
    "# Install necessary libraries\n",
    "!pip install -q google-generativeai python-dotenv ipywidgets\n",
    "\n",
    "import os\n",
    "from dotenv import load_dotenv\n",
    "import google.generativeai as genai\n",
    "import ipywidgets as widgets\n",
    "from IPython.display import display, clear_output\n",
    "\n",
    "# Load the environment variables from the .env file\n",
    "load_dotenv()\n",
    "\n",
    "# Configure the API key from the environment variable\n",
    "genai.configure(api_key=os.getenv('GEMINI_API_KEY'))\n",
    "\n",
    "# Instantiate the model\n",
    "# The model name is a direct string, not a path\n",
    "model = genai.GenerativeModel('gemini-pro')"
   ]
  },
  {
   "cell_type": "code",
   "execution_count": 4,
   "id": "41246e7e-dc81-4637-8f55-4b5d2b88dfdc",
   "metadata": {},
   "outputs": [],
   "source": [
    "# A VARIABLE to hold the system instruction - the AI's job description and personality.\n",
    "system_instruction = \"\"\"\n",
    "You are a helpful, witty, and concise assistant named \"JupyterBot\".\n",
    "You are an expert in data science and Python.\n",
    "You answer questions directly but always with a touch of friendly humor.\n",
    "You keep your responses to under 3 sentences.\n",
    "\"\"\""
   ]
  },
  {
   "cell_type": "code",
   "execution_count": 5,
   "id": "ea45d4ed-1983-49b0-a1a5-009bcccf9d9d",
   "metadata": {},
   "outputs": [],
   "source": [
    "# A LIST to store the conversation history.\n",
    "# This list will keep growing as we chat.\n",
    "\n",
    "chat_history = [] # Start with an empty list\n",
    "\n",
    "# We start the conversation by giving the AI its instructions.\n",
    "chat_history.append({'role': 'user', 'parts': [system_instruction]})\n",
    "# The 'role' can be 'user' or 'model'. 'parts' contains the text."
   ]
  },
  {
   "cell_type": "code",
   "execution_count": 6,
   "id": "c40da28a-cd57-4588-96c6-16356a3f0102",
   "metadata": {},
   "outputs": [
    {
     "data": {
      "application/vnd.jupyter.widget-view+json": {
       "model_id": "0ad1abe433b04eb999e59128dfbf7a80",
       "version_major": 2,
       "version_minor": 0
      },
      "text/plain": [
       "Text(value='', description='You:', layout=Layout(width='80%'), placeholder='Type your message here...')"
      ]
     },
     "metadata": {},
     "output_type": "display_data"
    },
    {
     "data": {
      "application/vnd.jupyter.widget-view+json": {
       "model_id": "86a0125ada8c4b99bf99306cbad67210",
       "version_major": 2,
       "version_minor": 0
      },
      "text/plain": [
       "Button(button_style='success', description='Send', style=ButtonStyle())"
      ]
     },
     "metadata": {},
     "output_type": "display_data"
    },
    {
     "data": {
      "application/vnd.jupyter.widget-view+json": {
       "model_id": "0732173df54d4e4687847c89af9c276f",
       "version_major": 2,
       "version_minor": 0
      },
      "text/plain": [
       "Button(button_style='warning', description='Clear Chat', style=ButtonStyle())"
      ]
     },
     "metadata": {},
     "output_type": "display_data"
    },
    {
     "data": {
      "application/vnd.jupyter.widget-view+json": {
       "model_id": "887ed18bc5174c30bb0378ebaf5ef2ea",
       "version_major": 2,
       "version_minor": 0
      },
      "text/plain": [
       "Output(layout=Layout(border_bottom='1px solid black', border_left='1px solid black', border_right='1px solid b…"
      ]
     },
     "metadata": {},
     "output_type": "display_data"
    }
   ],
   "source": [
    "# Chat history list\n",
    "chat_history = []\n",
    "\n",
    "# Text area to show conversation\n",
    "chat_box = widgets.Output(layout={'border': '1px solid black', 'height': '200px', 'overflow_y': 'auto'})\n",
    "\n",
    "# Input box for user messages\n",
    "user_input = widgets.Text(\n",
    "    placeholder='Type your message here...',\n",
    "    description='You:',\n",
    "    layout=widgets.Layout(width='80%')\n",
    ")\n",
    "\n",
    "# Send button\n",
    "send_button = widgets.Button(\n",
    "    description='Send',\n",
    "    button_style='success'\n",
    ")\n",
    "\n",
    "# Clear Chat button\n",
    "clear_button = widgets.Button(\n",
    "    description='Clear Chat',\n",
    "    button_style='warning'\n",
    ")\n",
    "\n",
    "# Function to handle sending messages\n",
    "def send_message(b):\n",
    "    text = user_input.value.strip()\n",
    "    if text == \"\":\n",
    "        return\n",
    "    \n",
    "    # Add user message to history\n",
    "    chat_history.append({'role': 'user', 'parts': [text]})\n",
    "    \n",
    "    with chat_box:\n",
    "        print(f\"You: {text}\")\n",
    "    \n",
    "    # Get AI response\n",
    "    response = model.generate_content(chat_history)\n",
    "    reply = response.text\n",
    "    \n",
    "    # Add AI message to history\n",
    "    chat_history.append({'role': 'model', 'parts': [reply]})\n",
    "    \n",
    "    with chat_box:\n",
    "        print(f\"JupyterBot: {reply}\")\n",
    "    \n",
    "    # Clear input box\n",
    "    user_input.value = \"\"\n",
    "\n",
    "# Function to clear chat\n",
    "def clear_chat(b):\n",
    "    global chat_history\n",
    "    chat_history = []  # reset conversation\n",
    "    chat_box.clear_output()\n",
    "    with chat_box:\n",
    "        print(\"Chat cleared. Start fresh!\")\n",
    "\n",
    "# Connect buttons\n",
    "send_button.on_click(send_message)\n",
    "clear_button.on_click(clear_chat)\n",
    "\n",
    "# Display UI\n",
    "display(user_input, send_button, clear_button, chat_box)\n",
    "\n",
    "with chat_box:\n",
    "    print(\"JupyterBot activated! Type below to start chatting.\")"
   ]
  },
  {
   "cell_type": "markdown",
   "id": "73a76c4e-e95a-4781-8705-2d4f48e7e97f",
   "metadata": {},
   "source": [
    "# 🤖 JupyterBot: Your Friendly Data Science Companion 📊\n",
    "\n",
    "**JupyterBot** is a witty and concise assistant built with Python, running right here in a Jupyter Notebook. It's an expert in data science and will answer your questions directly, but always with a friendly joke or two.\n",
    "\n",
    "---\n",
    "\n",
    "### 🚀 Getting Started\n",
    "\n",
    "1.  **Run all cells** in this Jupyter Notebook from top to bottom.\n",
    "2.  **Type your question** in the input box below and press **Enter** or click the **Send** button.\n",
    "3.  JupyterBot will respond with a helpful, and hopefully humorous, answer.\n",
    "4.  To start a new conversation, click the **Clear Chat** button.\n",
    "\n",
    "---\n",
    "\n",
    "### 🛠️ Built With\n",
    "\n",
    "-   **[Google's Gemini Pro API](https://ai.google.dev/docs)**\n",
    "-   **[Jupyter Notebook](https://jupyter.org/)**\n",
    "-   **[ipywidgets](https://ipywidgets.readthedocs.io/en/latest/)**\n",
    "\n",
    "---\n",
    "\n",
    "Happy chatting! 💬"
   ]
  },
  {
   "cell_type": "code",
   "execution_count": null,
   "id": "d1d087bd-b214-4665-a01f-b72b616d578d",
   "metadata": {},
   "outputs": [],
   "source": []
  }
 ],
 "metadata": {
  "kernelspec": {
   "display_name": "Python 3 (ipykernel)",
   "language": "python",
   "name": "python3"
  },
  "language_info": {
   "codemirror_mode": {
    "name": "ipython",
    "version": 3
   },
   "file_extension": ".py",
   "mimetype": "text/x-python",
   "name": "python",
   "nbconvert_exporter": "python",
   "pygments_lexer": "ipython3",
   "version": "3.9.23"
  }
 },
 "nbformat": 4,
 "nbformat_minor": 5
}
